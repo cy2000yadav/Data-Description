{
  "nbformat": 4,
  "nbformat_minor": 0,
  "metadata": {
    "colab": {
      "name": "Data Description.ipynb",
      "provenance": [],
      "collapsed_sections": []
    },
    "kernelspec": {
      "name": "python3",
      "display_name": "Python 3"
    },
    "language_info": {
      "name": "python"
    }
  },
  "cells": [
    {
      "cell_type": "markdown",
      "metadata": {
        "id": "RabGYAaHZPOr"
      },
      "source": [
        "## **The Battle of Neighborhoods | Data Description**"
      ]
    },
    {
      "cell_type": "markdown",
      "metadata": {
        "id": "WxmEANJVZSt6"
      },
      "source": [
        "## **Data Description:**"
      ]
    },
    {
      "cell_type": "markdown",
      "metadata": {
        "id": "PSroGb54ZSzj"
      },
      "source": [
        "Data Link: https://en.wikipedia.org/wiki/List_of_postal_codes_of_Canada:_M\n",
        "\n",
        "Will use Scarborough dataset which we scrapped from wikipedia on Week 3. Dataset consisting of latitude and longitude, zip codes."
      ]
    },
    {
      "cell_type": "markdown",
      "metadata": {
        "id": "Qq_dxg4fZS3y"
      },
      "source": [
        "## **Foursquare API Data:**"
      ]
    },
    {
      "cell_type": "markdown",
      "metadata": {
        "id": "SbDY6icCZS8M"
      },
      "source": [
        "We will need data about different venues in different neighborhoods of that specific borough. In order to gain that information we will use \"Foursquare\" locational information. Foursquare is a location data provider with information about all manner of venues and events within an area of interest. Such information includes venue names, locations, menus and even photos. As such, the foursquare location platform will be used as the sole data source since all the stated required information can be obtained through the API.\n",
        "\n",
        "After finding the list of neighborhoods, we then connect to the Foursquare API to gather information about venues inside each and every neighborhood. For each neighborhood, we have chosen the radius to be 100 meter.\n",
        "\n",
        "The data retrieved from Foursquare contained information of venues within a specified distance of the longitude and latitude of the postcodes. The information obtained per venue as follows:\n",
        "\n",
        "1. Neighborhood\n",
        "2. Neighborhood Latitude\n",
        "3. Neighborhood Longitude\n",
        "4. Venue\n",
        "5. Name of the venue e.g. the name of a store or restaurant\n",
        "6. Venue Latitude\n",
        "7. Venue Longitude\n",
        "8. Venue Category"
      ]
    }
  ]
}